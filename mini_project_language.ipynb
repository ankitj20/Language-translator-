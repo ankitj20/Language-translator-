{
 "cells": [
  {
   "cell_type": "markdown",
   "id": "192e0f54",
   "metadata": {
    "ExecuteTime": {
     "end_time": "2023-06-29T20:52:13.776254Z",
     "start_time": "2023-06-29T20:51:56.900685Z"
    }
   },
   "source": [
    "In this project we will be creating two functions using gtts and googletrans library, for converting text to speech and translating text from one language to another. "
   ]
  },
  {
   "cell_type": "code",
   "execution_count": 13,
   "id": "443c2930",
   "metadata": {
    "ExecuteTime": {
     "end_time": "2023-06-29T20:46:16.408621Z",
     "start_time": "2023-06-29T20:46:16.395863Z"
    }
   },
   "outputs": [],
   "source": [
    "def text_to_speech():\n",
    "    from gtts import gTTS\n",
    "    import os\n",
    "    a=False\n",
    "    \n",
    "    text = input(\"Enter the text which you want to convert to speech:\")\n",
    "    language = input(\"Enter the language code:\")\n",
    "    filename = input(\"Enter the filename, include extension also\")\n",
    "    \n",
    "    n = input(\"Do you want the speech to be slow? y/n \")\n",
    "    if n==\"y\":\n",
    "        a=True\n",
    "    else:\n",
    "        a=False\n",
    "    \n",
    "    obj = gTTS(text=text, lang=language, slow=a)\n",
    "    obj.save(filename)\n",
    "    \n",
    "    os.system(filename)"
   ]
  },
  {
   "cell_type": "code",
   "execution_count": 25,
   "id": "aaed9ec3",
   "metadata": {
    "ExecuteTime": {
     "end_time": "2023-06-29T20:58:43.703744Z",
     "start_time": "2023-06-29T20:58:43.697760Z"
    }
   },
   "outputs": [],
   "source": [
    "def text_converter():\n",
    "    from googletrans import Translator\n",
    "    \n",
    "    text = input(\"Enter the text: \")\n",
    "    n1 = input(\"Enter the language code of the language in which you want to convert text: \")\n",
    "    \n",
    "    translator = Translator()\n",
    "    output = translator.translate(text, dest=n1)\n",
    "    \n",
    "    print(output.text)"
   ]
  },
  {
   "cell_type": "code",
   "execution_count": null,
   "id": "9e1c82ef",
   "metadata": {},
   "outputs": [],
   "source": []
  }
 ],
 "metadata": {
  "kernelspec": {
   "display_name": "Python 3 (ipykernel)",
   "language": "python",
   "name": "python3"
  },
  "language_info": {
   "codemirror_mode": {
    "name": "ipython",
    "version": 3
   },
   "file_extension": ".py",
   "mimetype": "text/x-python",
   "name": "python",
   "nbconvert_exporter": "python",
   "pygments_lexer": "ipython3",
   "version": "3.9.12"
  }
 },
 "nbformat": 4,
 "nbformat_minor": 5
}
